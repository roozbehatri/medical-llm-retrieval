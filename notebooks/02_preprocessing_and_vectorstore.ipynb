{
 "cells": [
  {
   "cell_type": "code",
   "execution_count": 5,
   "id": "222d6f0b-9727-4832-bc70-caeb6062439a",
   "metadata": {},
   "outputs": [],
   "source": [
    "from dotenv import load_dotenv\n",
    "\n",
    "from langchain.text_splitter import RecursiveCharacterTextSplitter\n",
    "from langchain.vectorstores import FAISS\n",
    "from langchain_openai import OpenAIEmbeddings\n",
    "from langchain.docstore.document import Document\n",
    "\n",
    "import pandas as pd\n",
    "import pickle"
   ]
  },
  {
   "cell_type": "code",
   "execution_count": 2,
   "id": "2e77ae87-30c9-42f0-a5ff-8f2751984f4d",
   "metadata": {},
   "outputs": [],
   "source": [
    "# Load the cleaned CSV \n",
    "df_clean = pd.read_csv('../data/cleaned_reports.csv')  # If you saved it"
   ]
  },
  {
   "cell_type": "code",
   "execution_count": 6,
   "id": "707f05bd-7284-46b4-8908-2c27c06831bc",
   "metadata": {},
   "outputs": [
    {
     "name": "stdout",
     "output_type": "stream",
     "text": [
      "Total chunks: 3381\n"
     ]
    }
   ],
   "source": [
    "# prepare data for chunking\n",
    "texts = df_clean['findings'].tolist()\n",
    "\n",
    "# chunk the text\n",
    "text_splitter = RecursiveCharacterTextSplitter(\n",
    "    chunk_size=500,\n",
    "    chunk_overlap=50,\n",
    ")\n",
    "\n",
    "chunks = []\n",
    "for i, text in enumerate(texts):\n",
    "    split_docs = text_splitter.create_documents([text], metadatas=[{\"source\": f\"report_{i}\"}])\n",
    "    chunks.extend(split_docs)\n",
    "\n",
    "print(f\"Total chunks: {len(chunks)}\")"
   ]
  },
  {
   "cell_type": "code",
   "execution_count": 9,
   "id": "789d22f1-3b27-4c85-b9f9-de2fe85a640d",
   "metadata": {},
   "outputs": [],
   "source": [
    "# Load API key from .env file\"\n",
    "load_dotenv()\n",
    "\n",
    "# Set Up Embeddings\n",
    "embedding_model = OpenAIEmbeddings()\n",
    "\n",
    "# Create FAISS vector store\n",
    "vectorstore = FAISS.from_documents(chunks, embedding_model)\n",
    "\n",
    "# Save the vector store locally\n",
    "vectorstore.save_local(\"../results/faiss_vectorstore\")"
   ]
  },
  {
   "cell_type": "code",
   "execution_count": null,
   "id": "7c784774-1d19-4c6a-a306-1ee127796a70",
   "metadata": {},
   "outputs": [],
   "source": []
  }
 ],
 "metadata": {
  "kernelspec": {
   "display_name": "Python 3 (ipykernel)",
   "language": "python",
   "name": "python3"
  },
  "language_info": {
   "codemirror_mode": {
    "name": "ipython",
    "version": 3
   },
   "file_extension": ".py",
   "mimetype": "text/x-python",
   "name": "python",
   "nbconvert_exporter": "python",
   "pygments_lexer": "ipython3",
   "version": "3.10.18"
  }
 },
 "nbformat": 4,
 "nbformat_minor": 5
}
